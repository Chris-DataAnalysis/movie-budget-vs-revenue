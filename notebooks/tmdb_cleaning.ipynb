{
 "cells": [
  {
   "cell_type": "code",
   "execution_count": 66,
   "id": "f7204df1-9217-4b90-ac34-e54d306a61d8",
   "metadata": {},
   "outputs": [],
   "source": [
    "import pandas as pd\n",
    "import json"
   ]
  },
  {
   "cell_type": "code",
   "execution_count": 67,
   "id": "147b3c53-b9f7-44e3-8f2a-7453443e4791",
   "metadata": {},
   "outputs": [],
   "source": [
    "# Load datasets\n",
    "movies = pd.read_csv('tmdb_5000_movies.csv')\n",
    "credits = pd.read_csv('tmdb_5000_credits.csv')"
   ]
  },
  {
   "cell_type": "code",
   "execution_count": null,
   "id": "6ae0b0b3-4267-4f40-954d-54faf3b90704",
   "metadata": {},
   "outputs": [],
   "source": []
  },
  {
   "cell_type": "code",
   "execution_count": 68,
   "id": "ec7ec22e-4686-4238-9b49-9a5c10a31907",
   "metadata": {},
   "outputs": [
    {
     "name": "stdout",
     "output_type": "stream",
     "text": [
      "Movies Data\n",
      "      budget                                             genres  \\\n",
      "0  237000000  [{\"id\": 28, \"name\": \"Action\"}, {\"id\": 12, \"nam...   \n",
      "1  300000000  [{\"id\": 12, \"name\": \"Adventure\"}, {\"id\": 14, \"...   \n",
      "2  245000000  [{\"id\": 28, \"name\": \"Action\"}, {\"id\": 12, \"nam...   \n",
      "3  250000000  [{\"id\": 28, \"name\": \"Action\"}, {\"id\": 80, \"nam...   \n",
      "4  260000000  [{\"id\": 28, \"name\": \"Action\"}, {\"id\": 12, \"nam...   \n",
      "\n",
      "                                       homepage      id  \\\n",
      "0                   http://www.avatarmovie.com/   19995   \n",
      "1  http://disney.go.com/disneypictures/pirates/     285   \n",
      "2   http://www.sonypictures.com/movies/spectre/  206647   \n",
      "3            http://www.thedarkknightrises.com/   49026   \n",
      "4          http://movies.disney.com/john-carter   49529   \n",
      "\n",
      "                                            keywords original_language  \\\n",
      "0  [{\"id\": 1463, \"name\": \"culture clash\"}, {\"id\":...                en   \n",
      "1  [{\"id\": 270, \"name\": \"ocean\"}, {\"id\": 726, \"na...                en   \n",
      "2  [{\"id\": 470, \"name\": \"spy\"}, {\"id\": 818, \"name...                en   \n",
      "3  [{\"id\": 849, \"name\": \"dc comics\"}, {\"id\": 853,...                en   \n",
      "4  [{\"id\": 818, \"name\": \"based on novel\"}, {\"id\":...                en   \n",
      "\n",
      "                             original_title  \\\n",
      "0                                    Avatar   \n",
      "1  Pirates of the Caribbean: At World's End   \n",
      "2                                   Spectre   \n",
      "3                     The Dark Knight Rises   \n",
      "4                               John Carter   \n",
      "\n",
      "                                            overview  popularity  \\\n",
      "0  In the 22nd century, a paraplegic Marine is di...  150.437577   \n",
      "1  Captain Barbossa, long believed to be dead, ha...  139.082615   \n",
      "2  A cryptic message from Bond’s past sends him o...  107.376788   \n",
      "3  Following the death of District Attorney Harve...  112.312950   \n",
      "4  John Carter is a war-weary, former military ca...   43.926995   \n",
      "\n",
      "                                production_companies  \\\n",
      "0  [{\"name\": \"Ingenious Film Partners\", \"id\": 289...   \n",
      "1  [{\"name\": \"Walt Disney Pictures\", \"id\": 2}, {\"...   \n",
      "2  [{\"name\": \"Columbia Pictures\", \"id\": 5}, {\"nam...   \n",
      "3  [{\"name\": \"Legendary Pictures\", \"id\": 923}, {\"...   \n",
      "4        [{\"name\": \"Walt Disney Pictures\", \"id\": 2}]   \n",
      "\n",
      "                                production_countries release_date     revenue  \\\n",
      "0  [{\"iso_3166_1\": \"US\", \"name\": \"United States o...   2009-12-10  2787965087   \n",
      "1  [{\"iso_3166_1\": \"US\", \"name\": \"United States o...   2007-05-19   961000000   \n",
      "2  [{\"iso_3166_1\": \"GB\", \"name\": \"United Kingdom\"...   2015-10-26   880674609   \n",
      "3  [{\"iso_3166_1\": \"US\", \"name\": \"United States o...   2012-07-16  1084939099   \n",
      "4  [{\"iso_3166_1\": \"US\", \"name\": \"United States o...   2012-03-07   284139100   \n",
      "\n",
      "   runtime                                   spoken_languages    status  \\\n",
      "0    162.0  [{\"iso_639_1\": \"en\", \"name\": \"English\"}, {\"iso...  Released   \n",
      "1    169.0           [{\"iso_639_1\": \"en\", \"name\": \"English\"}]  Released   \n",
      "2    148.0  [{\"iso_639_1\": \"fr\", \"name\": \"Fran\\u00e7ais\"},...  Released   \n",
      "3    165.0           [{\"iso_639_1\": \"en\", \"name\": \"English\"}]  Released   \n",
      "4    132.0           [{\"iso_639_1\": \"en\", \"name\": \"English\"}]  Released   \n",
      "\n",
      "                                          tagline  \\\n",
      "0                     Enter the World of Pandora.   \n",
      "1  At the end of the world, the adventure begins.   \n",
      "2                           A Plan No One Escapes   \n",
      "3                                 The Legend Ends   \n",
      "4            Lost in our world, found in another.   \n",
      "\n",
      "                                      title  vote_average  vote_count  \n",
      "0                                    Avatar           7.2       11800  \n",
      "1  Pirates of the Caribbean: At World's End           6.9        4500  \n",
      "2                                   Spectre           6.3        4466  \n",
      "3                     The Dark Knight Rises           7.6        9106  \n",
      "4                               John Carter           6.1        2124  \n",
      "\n",
      "Credits Data\n",
      "   movie_id                                     title  \\\n",
      "0     19995                                    Avatar   \n",
      "1       285  Pirates of the Caribbean: At World's End   \n",
      "2    206647                                   Spectre   \n",
      "3     49026                     The Dark Knight Rises   \n",
      "4     49529                               John Carter   \n",
      "\n",
      "                                                cast  \\\n",
      "0  [{\"cast_id\": 242, \"character\": \"Jake Sully\", \"...   \n",
      "1  [{\"cast_id\": 4, \"character\": \"Captain Jack Spa...   \n",
      "2  [{\"cast_id\": 1, \"character\": \"James Bond\", \"cr...   \n",
      "3  [{\"cast_id\": 2, \"character\": \"Bruce Wayne / Ba...   \n",
      "4  [{\"cast_id\": 5, \"character\": \"John Carter\", \"c...   \n",
      "\n",
      "                                                crew  \n",
      "0  [{\"credit_id\": \"52fe48009251416c750aca23\", \"de...  \n",
      "1  [{\"credit_id\": \"52fe4232c3a36847f800b579\", \"de...  \n",
      "2  [{\"credit_id\": \"54805967c3a36829b5002c41\", \"de...  \n",
      "3  [{\"credit_id\": \"52fe4781c3a36847f81398c3\", \"de...  \n",
      "4  [{\"credit_id\": \"52fe479ac3a36847f813eaa3\", \"de...  \n"
     ]
    }
   ],
   "source": [
    "# Check the data\n",
    "print(\"Movies Data\")\n",
    "print(movies.head())\n",
    "\n",
    "print(\"\\nCredits Data\")\n",
    "print(credits.head())"
   ]
  },
  {
   "cell_type": "code",
   "execution_count": 69,
   "id": "18e947c9-d59b-42ec-a48d-8bf42ee82d2c",
   "metadata": {},
   "outputs": [
    {
     "name": "stdout",
     "output_type": "stream",
     "text": [
      "Movies shape: (4803, 20)\n",
      "Credits shape: (4803, 4)\n"
     ]
    }
   ],
   "source": [
    "# Check shapes\n",
    "print(f'Movies shape: {movies.shape}')\n",
    "print(f'Credits shape: {credits.shape}')"
   ]
  },
  {
   "cell_type": "code",
   "execution_count": 70,
   "id": "76117fee-58c7-4171-8cbe-678444a76937",
   "metadata": {},
   "outputs": [
    {
     "name": "stdout",
     "output_type": "stream",
     "text": [
      "<class 'pandas.core.frame.DataFrame'>\n",
      "RangeIndex: 4803 entries, 0 to 4802\n",
      "Data columns (total 20 columns):\n",
      " #   Column                Non-Null Count  Dtype  \n",
      "---  ------                --------------  -----  \n",
      " 0   budget                4803 non-null   int64  \n",
      " 1   genres                4803 non-null   object \n",
      " 2   homepage              1712 non-null   object \n",
      " 3   id                    4803 non-null   int64  \n",
      " 4   keywords              4803 non-null   object \n",
      " 5   original_language     4803 non-null   object \n",
      " 6   original_title        4803 non-null   object \n",
      " 7   overview              4800 non-null   object \n",
      " 8   popularity            4803 non-null   float64\n",
      " 9   production_companies  4803 non-null   object \n",
      " 10  production_countries  4803 non-null   object \n",
      " 11  release_date          4802 non-null   object \n",
      " 12  revenue               4803 non-null   int64  \n",
      " 13  runtime               4801 non-null   float64\n",
      " 14  spoken_languages      4803 non-null   object \n",
      " 15  status                4803 non-null   object \n",
      " 16  tagline               3959 non-null   object \n",
      " 17  title                 4803 non-null   object \n",
      " 18  vote_average          4803 non-null   float64\n",
      " 19  vote_count            4803 non-null   int64  \n",
      "dtypes: float64(3), int64(4), object(13)\n",
      "memory usage: 750.6+ KB\n",
      "<class 'pandas.core.frame.DataFrame'>\n",
      "RangeIndex: 4803 entries, 0 to 4802\n",
      "Data columns (total 4 columns):\n",
      " #   Column    Non-Null Count  Dtype \n",
      "---  ------    --------------  ----- \n",
      " 0   movie_id  4803 non-null   int64 \n",
      " 1   title     4803 non-null   object\n",
      " 2   cast      4803 non-null   object\n",
      " 3   crew      4803 non-null   object\n",
      "dtypes: int64(1), object(3)\n",
      "memory usage: 150.2+ KB\n"
     ]
    }
   ],
   "source": [
    "# Undertsand the Columns and Data Types\n",
    "movies.info()\n",
    "credits.info()"
   ]
  },
  {
   "cell_type": "code",
   "execution_count": 71,
   "id": "cf085581-e286-4520-a8b5-c67dadb65a0a",
   "metadata": {},
   "outputs": [],
   "source": [
    "# Clean and Fix Columns in movies\n",
    "# Drop Unnecessary Columns\n",
    "\n",
    "movies = movies.drop(columns=[\n",
    "    'homepage', 'tagline', 'keywords', 'status', 'original_title',\n",
    "    'spoken_languages', 'production_companies', 'production_countries'\n",
    "])"
   ]
  },
  {
   "cell_type": "code",
   "execution_count": 72,
   "id": "f385e954-1686-4fc8-ace0-0e1469d9c3e2",
   "metadata": {},
   "outputs": [
    {
     "data": {
      "text/plain": [
       "3"
      ]
     },
     "execution_count": 72,
     "metadata": {},
     "output_type": "execute_result"
    }
   ],
   "source": [
    "#Check for and drop duplicates \n",
    "\n",
    "movies.duplicated(subset='title').sum()"
   ]
  },
  {
   "cell_type": "code",
   "execution_count": 73,
   "id": "be362d1e-c976-4726-9c5f-4efba0836f0d",
   "metadata": {},
   "outputs": [
    {
     "data": {
      "text/html": [
       "<div>\n",
       "<style scoped>\n",
       "    .dataframe tbody tr th:only-of-type {\n",
       "        vertical-align: middle;\n",
       "    }\n",
       "\n",
       "    .dataframe tbody tr th {\n",
       "        vertical-align: top;\n",
       "    }\n",
       "\n",
       "    .dataframe thead th {\n",
       "        text-align: right;\n",
       "    }\n",
       "</style>\n",
       "<table border=\"1\" class=\"dataframe\">\n",
       "  <thead>\n",
       "    <tr style=\"text-align: right;\">\n",
       "      <th></th>\n",
       "      <th>budget</th>\n",
       "      <th>genres</th>\n",
       "      <th>id</th>\n",
       "      <th>original_language</th>\n",
       "      <th>overview</th>\n",
       "      <th>popularity</th>\n",
       "      <th>release_date</th>\n",
       "      <th>revenue</th>\n",
       "      <th>runtime</th>\n",
       "      <th>title</th>\n",
       "      <th>vote_average</th>\n",
       "      <th>vote_count</th>\n",
       "    </tr>\n",
       "  </thead>\n",
       "  <tbody>\n",
       "    <tr>\n",
       "      <th>1359</th>\n",
       "      <td>35000000</td>\n",
       "      <td>[{\"id\": 14, \"name\": \"Fantasy\"}, {\"id\": 28, \"na...</td>\n",
       "      <td>268</td>\n",
       "      <td>en</td>\n",
       "      <td>The Dark Knight of Gotham City begins his war ...</td>\n",
       "      <td>44.104469</td>\n",
       "      <td>1989-06-23</td>\n",
       "      <td>411348924</td>\n",
       "      <td>126.0</td>\n",
       "      <td>Batman</td>\n",
       "      <td>7.0</td>\n",
       "      <td>2096</td>\n",
       "    </tr>\n",
       "    <tr>\n",
       "      <th>4267</th>\n",
       "      <td>1377800</td>\n",
       "      <td>[{\"id\": 10751, \"name\": \"Family\"}, {\"id\": 12, \"...</td>\n",
       "      <td>2661</td>\n",
       "      <td>en</td>\n",
       "      <td>The Dynamic Duo faces four super-villains who ...</td>\n",
       "      <td>9.815394</td>\n",
       "      <td>1966-07-30</td>\n",
       "      <td>0</td>\n",
       "      <td>105.0</td>\n",
       "      <td>Batman</td>\n",
       "      <td>6.1</td>\n",
       "      <td>203</td>\n",
       "    </tr>\n",
       "    <tr>\n",
       "      <th>3647</th>\n",
       "      <td>0</td>\n",
       "      <td>[{\"id\": 18, \"name\": \"Drama\"}]</td>\n",
       "      <td>39269</td>\n",
       "      <td>en</td>\n",
       "      <td>Dennis Hopper is a hard-drinking truck driver ...</td>\n",
       "      <td>0.679351</td>\n",
       "      <td>1980-05-01</td>\n",
       "      <td>0</td>\n",
       "      <td>94.0</td>\n",
       "      <td>Out of the Blue</td>\n",
       "      <td>6.5</td>\n",
       "      <td>17</td>\n",
       "    </tr>\n",
       "    <tr>\n",
       "      <th>3693</th>\n",
       "      <td>0</td>\n",
       "      <td>[{\"id\": 18, \"name\": \"Drama\"}]</td>\n",
       "      <td>10844</td>\n",
       "      <td>en</td>\n",
       "      <td>Ordinary people find extraordinary courage in ...</td>\n",
       "      <td>0.706355</td>\n",
       "      <td>2006-10-12</td>\n",
       "      <td>0</td>\n",
       "      <td>103.0</td>\n",
       "      <td>Out of the Blue</td>\n",
       "      <td>5.9</td>\n",
       "      <td>18</td>\n",
       "    </tr>\n",
       "    <tr>\n",
       "      <th>972</th>\n",
       "      <td>44000000</td>\n",
       "      <td>[{\"id\": 28, \"name\": \"Action\"}, {\"id\": 12, \"nam...</td>\n",
       "      <td>72710</td>\n",
       "      <td>en</td>\n",
       "      <td>A parasitic alien soul is injected into the bo...</td>\n",
       "      <td>42.933027</td>\n",
       "      <td>2013-03-22</td>\n",
       "      <td>63327201</td>\n",
       "      <td>125.0</td>\n",
       "      <td>The Host</td>\n",
       "      <td>6.0</td>\n",
       "      <td>1817</td>\n",
       "    </tr>\n",
       "    <tr>\n",
       "      <th>2877</th>\n",
       "      <td>11000000</td>\n",
       "      <td>[{\"id\": 27, \"name\": \"Horror\"}, {\"id\": 18, \"nam...</td>\n",
       "      <td>1255</td>\n",
       "      <td>ko</td>\n",
       "      <td>Gang-du is a dim-witted man working at his fat...</td>\n",
       "      <td>27.655270</td>\n",
       "      <td>2006-07-27</td>\n",
       "      <td>88489643</td>\n",
       "      <td>119.0</td>\n",
       "      <td>The Host</td>\n",
       "      <td>6.7</td>\n",
       "      <td>537</td>\n",
       "    </tr>\n",
       "  </tbody>\n",
       "</table>\n",
       "</div>"
      ],
      "text/plain": [
       "        budget                                             genres     id  \\\n",
       "1359  35000000  [{\"id\": 14, \"name\": \"Fantasy\"}, {\"id\": 28, \"na...    268   \n",
       "4267   1377800  [{\"id\": 10751, \"name\": \"Family\"}, {\"id\": 12, \"...   2661   \n",
       "3647         0                      [{\"id\": 18, \"name\": \"Drama\"}]  39269   \n",
       "3693         0                      [{\"id\": 18, \"name\": \"Drama\"}]  10844   \n",
       "972   44000000  [{\"id\": 28, \"name\": \"Action\"}, {\"id\": 12, \"nam...  72710   \n",
       "2877  11000000  [{\"id\": 27, \"name\": \"Horror\"}, {\"id\": 18, \"nam...   1255   \n",
       "\n",
       "     original_language                                           overview  \\\n",
       "1359                en  The Dark Knight of Gotham City begins his war ...   \n",
       "4267                en  The Dynamic Duo faces four super-villains who ...   \n",
       "3647                en  Dennis Hopper is a hard-drinking truck driver ...   \n",
       "3693                en  Ordinary people find extraordinary courage in ...   \n",
       "972                 en  A parasitic alien soul is injected into the bo...   \n",
       "2877                ko  Gang-du is a dim-witted man working at his fat...   \n",
       "\n",
       "      popularity release_date    revenue  runtime            title  \\\n",
       "1359   44.104469   1989-06-23  411348924    126.0           Batman   \n",
       "4267    9.815394   1966-07-30          0    105.0           Batman   \n",
       "3647    0.679351   1980-05-01          0     94.0  Out of the Blue   \n",
       "3693    0.706355   2006-10-12          0    103.0  Out of the Blue   \n",
       "972    42.933027   2013-03-22   63327201    125.0         The Host   \n",
       "2877   27.655270   2006-07-27   88489643    119.0         The Host   \n",
       "\n",
       "      vote_average  vote_count  \n",
       "1359           7.0        2096  \n",
       "4267           6.1         203  \n",
       "3647           6.5          17  \n",
       "3693           5.9          18  \n",
       "972            6.0        1817  \n",
       "2877           6.7         537  "
      ]
     },
     "execution_count": 73,
     "metadata": {},
     "output_type": "execute_result"
    }
   ],
   "source": [
    "#View the duplicates side by side \n",
    "duplicates = movies[movies.duplicated(subset='title', keep=False)]\n",
    "duplicates.sort_values(by='title')\n"
   ]
  },
  {
   "cell_type": "code",
   "execution_count": 74,
   "id": "12df0ef7-1fbc-4ce6-9acf-15596f8833bb",
   "metadata": {},
   "outputs": [],
   "source": [
    "#Convert the realease dates from strings to datetime\n",
    "\n",
    "movies['release_date'] = pd.to_datetime(movies['release_date'], errors='coerce')\n"
   ]
  },
  {
   "cell_type": "code",
   "execution_count": 75,
   "id": "17a21b5c-748f-48d1-821a-238fb3bce89c",
   "metadata": {},
   "outputs": [
    {
     "name": "stdout",
     "output_type": "stream",
     "text": [
      "<class 'pandas.core.frame.DataFrame'>\n",
      "RangeIndex: 4803 entries, 0 to 4802\n",
      "Data columns (total 12 columns):\n",
      " #   Column             Non-Null Count  Dtype         \n",
      "---  ------             --------------  -----         \n",
      " 0   budget             4803 non-null   int64         \n",
      " 1   genres             4803 non-null   object        \n",
      " 2   id                 4803 non-null   int64         \n",
      " 3   original_language  4803 non-null   object        \n",
      " 4   overview           4800 non-null   object        \n",
      " 5   popularity         4803 non-null   float64       \n",
      " 6   release_date       4802 non-null   datetime64[ns]\n",
      " 7   revenue            4803 non-null   int64         \n",
      " 8   runtime            4801 non-null   float64       \n",
      " 9   title              4803 non-null   object        \n",
      " 10  vote_average       4803 non-null   float64       \n",
      " 11  vote_count         4803 non-null   int64         \n",
      "dtypes: datetime64[ns](1), float64(3), int64(4), object(4)\n",
      "memory usage: 450.4+ KB\n"
     ]
    }
   ],
   "source": [
    "#Inspect the results of the data cleaning\n",
    "\n",
    "movies.head()\n",
    "movies.info()"
   ]
  },
  {
   "cell_type": "code",
   "execution_count": 76,
   "id": "9b99b8f2-e99d-4706-973e-dcbcb1018c62",
   "metadata": {},
   "outputs": [],
   "source": [
    "# Merge the movies df with credits df\n",
    "\n",
    "tmdb = pd.merge(movies, credits, left_on='id', right_on='movie_id', how='inner')"
   ]
  },
  {
   "cell_type": "code",
   "execution_count": 77,
   "id": "10171c8b-3c36-4f63-aabd-57bc48ae1122",
   "metadata": {},
   "outputs": [
    {
     "name": "stdout",
     "output_type": "stream",
     "text": [
      "Merged shape: (4803, 16)\n",
      "<class 'pandas.core.frame.DataFrame'>\n",
      "RangeIndex: 4803 entries, 0 to 4802\n",
      "Data columns (total 16 columns):\n",
      " #   Column             Non-Null Count  Dtype         \n",
      "---  ------             --------------  -----         \n",
      " 0   budget             4803 non-null   int64         \n",
      " 1   genres             4803 non-null   object        \n",
      " 2   id                 4803 non-null   int64         \n",
      " 3   original_language  4803 non-null   object        \n",
      " 4   overview           4800 non-null   object        \n",
      " 5   popularity         4803 non-null   float64       \n",
      " 6   release_date       4802 non-null   datetime64[ns]\n",
      " 7   revenue            4803 non-null   int64         \n",
      " 8   runtime            4801 non-null   float64       \n",
      " 9   title_x            4803 non-null   object        \n",
      " 10  vote_average       4803 non-null   float64       \n",
      " 11  vote_count         4803 non-null   int64         \n",
      " 12  movie_id           4803 non-null   int64         \n",
      " 13  title_y            4803 non-null   object        \n",
      " 14  cast               4803 non-null   object        \n",
      " 15  crew               4803 non-null   object        \n",
      "dtypes: datetime64[ns](1), float64(3), int64(5), object(7)\n",
      "memory usage: 600.5+ KB\n"
     ]
    }
   ],
   "source": [
    "#Check the shape\n",
    "print('Merged shape:', tmdb.shape)\n",
    "tmdb.info()"
   ]
  },
  {
   "cell_type": "code",
   "execution_count": 78,
   "id": "6e511f84-1118-4201-8872-436dd40dcd3a",
   "metadata": {},
   "outputs": [],
   "source": [
    "#Remove movie_id column which is identical to id column \n",
    "tmdb = tmdb.drop(columns=['movie_id'])\n",
    "#Drop title_y which is a duplicate title created when merging \n",
    "tmdb = tmdb.drop(columns=['title_y'])\n",
    "#Rename title_x back to title\n",
    "tmdb = tmdb.rename(columns={'title_x': 'title'})"
   ]
  },
  {
   "cell_type": "code",
   "execution_count": 79,
   "id": "32734efb-3316-4f96-b411-4a13545e6bad",
   "metadata": {},
   "outputs": [],
   "source": [
    "#Parse crew and cast from strings to Python lists\n",
    "tmdb['crew'] = tmdb['crew'].apply(lambda x: json.loads(x))\n",
    "tmdb['cast'] = tmdb['cast'].apply(lambda x: json.loads(x))\n",
    "tmdb['genres'] = tmdb['genres'].apply(lambda x: json.loads(x))\n"
   ]
  },
  {
   "cell_type": "code",
   "execution_count": 80,
   "id": "3525e5c0-a33e-4558-8505-9e1cb12ef179",
   "metadata": {},
   "outputs": [],
   "source": [
    "#Extract director from crew\n",
    "def get_director(crew_list):\n",
    "    for person in crew_list:\n",
    "        if person.get('job') == 'Director':\n",
    "            return person.get('name')\n",
    "    return None\n",
    "\n",
    "tmdb['director'] = tmdb['crew'].apply(get_director)\n"
   ]
  },
  {
   "cell_type": "code",
   "execution_count": 81,
   "id": "f014a5c6-a1c9-4f53-948f-7182e530acf6",
   "metadata": {},
   "outputs": [],
   "source": [
    "#Extract top 5 Actors from cast \n",
    "def get_top_5_actors(cast_list):\n",
    "    return [person.get('name') for person in cast_list[:5]]\n",
    "    \n",
    "tmdb['top_actors'] = tmdb['cast'].apply(get_top_5_actors)\n",
    "\n",
    "#Turn it into a readable string\n",
    "tmdb['top_actors'] = tmdb['top_actors'].apply(lambda x: ', '.join(x))"
   ]
  },
  {
   "cell_type": "code",
   "execution_count": 82,
   "id": "b9d36511-bfbb-4285-ab9a-ea07eb2b9135",
   "metadata": {},
   "outputs": [],
   "source": [
    "#Extract the genres\n",
    "def get_genres(genres_list):\n",
    "    return [genre.get('name')for genre in genres_list]\n",
    "\n",
    "tmdb['genres'] = tmdb['genres'].apply(get_genres)\n",
    "\n",
    "#Convert the list of genre names into a comma-separated string\n",
    "tmdb['genres'] = tmdb['genres'].apply(lambda x: \", \".join(x))"
   ]
  },
  {
   "cell_type": "code",
   "execution_count": 83,
   "id": "27596ded-b077-4307-a89b-1a7f42d40cf8",
   "metadata": {},
   "outputs": [],
   "source": [
    "#Drop orginal cost and crew columns\n",
    "tmdb = tmdb.drop(columns=['cast', 'crew'])"
   ]
  },
  {
   "cell_type": "code",
   "execution_count": 84,
   "id": "210def7c-83f5-4c95-8f4e-c03a1b26593f",
   "metadata": {},
   "outputs": [
    {
     "data": {
      "text/html": [
       "<div>\n",
       "<style scoped>\n",
       "    .dataframe tbody tr th:only-of-type {\n",
       "        vertical-align: middle;\n",
       "    }\n",
       "\n",
       "    .dataframe tbody tr th {\n",
       "        vertical-align: top;\n",
       "    }\n",
       "\n",
       "    .dataframe thead th {\n",
       "        text-align: right;\n",
       "    }\n",
       "</style>\n",
       "<table border=\"1\" class=\"dataframe\">\n",
       "  <thead>\n",
       "    <tr style=\"text-align: right;\">\n",
       "      <th></th>\n",
       "      <th>title</th>\n",
       "      <th>director</th>\n",
       "      <th>top_actors</th>\n",
       "    </tr>\n",
       "  </thead>\n",
       "  <tbody>\n",
       "    <tr>\n",
       "      <th>0</th>\n",
       "      <td>Avatar</td>\n",
       "      <td>James Cameron</td>\n",
       "      <td>Sam Worthington, Zoe Saldana, Sigourney Weaver...</td>\n",
       "    </tr>\n",
       "    <tr>\n",
       "      <th>1</th>\n",
       "      <td>Pirates of the Caribbean: At World's End</td>\n",
       "      <td>Gore Verbinski</td>\n",
       "      <td>Johnny Depp, Orlando Bloom, Keira Knightley, S...</td>\n",
       "    </tr>\n",
       "    <tr>\n",
       "      <th>2</th>\n",
       "      <td>Spectre</td>\n",
       "      <td>Sam Mendes</td>\n",
       "      <td>Daniel Craig, Christoph Waltz, Léa Seydoux, Ra...</td>\n",
       "    </tr>\n",
       "    <tr>\n",
       "      <th>3</th>\n",
       "      <td>The Dark Knight Rises</td>\n",
       "      <td>Christopher Nolan</td>\n",
       "      <td>Christian Bale, Michael Caine, Gary Oldman, An...</td>\n",
       "    </tr>\n",
       "    <tr>\n",
       "      <th>4</th>\n",
       "      <td>John Carter</td>\n",
       "      <td>Andrew Stanton</td>\n",
       "      <td>Taylor Kitsch, Lynn Collins, Samantha Morton, ...</td>\n",
       "    </tr>\n",
       "  </tbody>\n",
       "</table>\n",
       "</div>"
      ],
      "text/plain": [
       "                                      title           director  \\\n",
       "0                                    Avatar      James Cameron   \n",
       "1  Pirates of the Caribbean: At World's End     Gore Verbinski   \n",
       "2                                   Spectre         Sam Mendes   \n",
       "3                     The Dark Knight Rises  Christopher Nolan   \n",
       "4                               John Carter     Andrew Stanton   \n",
       "\n",
       "                                          top_actors  \n",
       "0  Sam Worthington, Zoe Saldana, Sigourney Weaver...  \n",
       "1  Johnny Depp, Orlando Bloom, Keira Knightley, S...  \n",
       "2  Daniel Craig, Christoph Waltz, Léa Seydoux, Ra...  \n",
       "3  Christian Bale, Michael Caine, Gary Oldman, An...  \n",
       "4  Taylor Kitsch, Lynn Collins, Samantha Morton, ...  "
      ]
     },
     "execution_count": 84,
     "metadata": {},
     "output_type": "execute_result"
    }
   ],
   "source": [
    "#Check the results\n",
    "tmdb[['title', 'director', 'top_actors']].head()\n"
   ]
  },
  {
   "cell_type": "code",
   "execution_count": 86,
   "id": "13aabedc-5380-44bd-9222-8bcbf24abbf5",
   "metadata": {},
   "outputs": [],
   "source": [
    "#Save the file as CSV \n",
    "tmdb.to_csv('tmdb.csv', index=False)"
   ]
  },
  {
   "cell_type": "code",
   "execution_count": null,
   "id": "8e7c691a-68e2-491f-af39-2870735a0042",
   "metadata": {},
   "outputs": [],
   "source": []
  }
 ],
 "metadata": {
  "kernelspec": {
   "display_name": "Python [conda env:base] *",
   "language": "python",
   "name": "conda-base-py"
  },
  "language_info": {
   "codemirror_mode": {
    "name": "ipython",
    "version": 3
   },
   "file_extension": ".py",
   "mimetype": "text/x-python",
   "name": "python",
   "nbconvert_exporter": "python",
   "pygments_lexer": "ipython3",
   "version": "3.12.7"
  }
 },
 "nbformat": 4,
 "nbformat_minor": 5
}
